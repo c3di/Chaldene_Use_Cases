{
 "cells": [
  {
   "cell_type": "markdown",
   "id": "90bf78a2-f622-4e30-88eb-7553cec1877f",
   "metadata": {},
   "source": [
    "# Imprint Size Estimation\n",
    "dependencies requirement:\n",
    "1. vp4jl installed via jupyter lab extension manager\n",
    "2. imprint library for vp4jl attached\n",
    "3. other dependencies skimage, PIL, gwyfile, numpy installed via pypi"
   ]
  },
  {
   "cell_type": "code",
   "execution_count": 2,
   "id": "513a19cc-fb21-4c03-9701-7e1e5908c00a",
   "metadata": {
    "code type": "visual code"
   },
   "outputs": [
    {
     "name": "stdout",
     "output_type": "stream",
     "text": [
      "[np.float64(17.97299350230255)]\n"
     ]
    }
   ],
   "source": [
    "{\"nodes\":[{\"id\":\"0\",\"type\":\"imprint.read_gwyfile\",\"position\":{\"x\":149.90996108371286,\"y\":128.36067187465974},\"inputs\":{\"execIn\":{\"title\":\"execIn\",\"dataType\":\"exec\"},\"path\":{\"title\":\"path\",\"value\":\"Al_10mN_1.gwy\",\"dataType\":\"string\"}},\"outputs\":{\"execOut\":{\"title\":\"execOut\",\"dataType\":\"exec\"},\"intensity\":{\"title\":\"intensity\",\"dataType\":\"anyDataType\"},\"height\":{\"title\":\"height\",\"dataType\":\"anyDataType\"},\"micrometer_per_pixel\":{\"title\":\"micrometer per pixel\",\"dataType\":\"float\"}},\"title\":\"read_gwyfile\"},{\"id\":\"1\",\"type\":\"Flow Control.main\",\"position\":{\"x\":77.39999389648438,\"y\":128.1999969482422},\"outputs\":{\"execOut\":{\"dataType\":\"exec\"}},\"title\":\"main\"},{\"id\":\"2\",\"type\":\"imprint.gaussian\",\"position\":{\"x\":486.3362394865177,\"y\":128.3772405202526},\"inputs\":{\"execIn\":{\"title\":\"execIn\",\"dataType\":\"exec\"},\"image\":{\"title\":\"image\",\"dataType\":\"anyDataType\"},\"sigma\":{\"title\":\"sigma\",\"dataType\":\"float\"}},\"outputs\":{\"execOut\":{\"title\":\"execOut\",\"dataType\":\"exec\"},\"outputImage\":{\"title\":\"image\",\"dataType\":\"anyDataType\"}},\"title\":\"gaussian\"},{\"id\":\"3\",\"type\":\"imprint.enhancment\",\"position\":{\"x\":737.9001564692055,\"y\":128.30589690387427},\"inputs\":{\"execIn\":{\"title\":\"execIn\",\"dataType\":\"exec\"},\"image\":{\"title\":\"image\",\"dataType\":\"anyDataType\"},\"factor\":{\"title\":\"factor\",\"value\":2,\"dataType\":\"float\"}},\"outputs\":{\"execOut\":{\"title\":\"execOut\",\"dataType\":\"exec\"},\"outputImage\":{\"title\":\"image\",\"dataType\":\"anyDataType\"}},\"title\":\"enhancment\"},{\"id\":\"4\",\"type\":\"imprint.isodata_binarize\",\"position\":{\"x\":987.1237569431764,\"y\":127.78437739882597},\"inputs\":{\"execIn\":{\"title\":\"execIn\",\"dataType\":\"exec\"},\"image\":{\"title\":\"image\",\"dataType\":\"anyDataType\"}},\"outputs\":{\"execOut\":{\"title\":\"execOut\",\"dataType\":\"exec\"},\"outputImage\":{\"title\":\"image\",\"dataType\":\"anyDataType\"}},\"title\":\"isodata_binarize\"},{\"id\":\"5\",\"type\":\"imprint.find_contours\",\"position\":{\"x\":1164.9429178309529,\"y\":127.6561232863186},\"inputs\":{\"execIn\":{\"title\":\"execIn\",\"dataType\":\"exec\"},\"image\":{\"title\":\"image\",\"dataType\":\"anyDataType\"}},\"outputs\":{\"execOut\":{\"title\":\"execOut\",\"dataType\":\"exec\"},\"contours\":{\"title\":\"contours\",\"dataType\":\"anyDataType\"}},\"title\":\"find_contours\"},{\"id\":\"6\",\"type\":\"imprint.contours_size\",\"position\":{\"x\":1108.8165434858424,\"y\":237.6561232863185},\"inputs\":{\"contour\":{\"title\":\"props\",\"dataType\":\"anyDataType\"}},\"outputs\":{\"sizes\":{\"title\":\"sizes\",\"dataType\":\"anyDataType\"}},\"title\":\"contours_size\"},{\"id\":\"7\",\"type\":\"imprint.pixel to physical unit\",\"position\":{\"x\":1361.942917830953,\"y\":128.1561232863186},\"inputs\":{\"execIn\":{\"title\":\"execIn\",\"dataType\":\"exec\"},\"data in pixel\":{\"title\":\"in pixel\",\"dataType\":\"float\"},\"is_area\":{\"title\":\"is_area\",\"value\":true,\"dataType\":\"boolean\"},\"micrometer per pixel\":{\"title\":\"micrometer per pixel\",\"dataType\":\"float\"}},\"outputs\":{\"execOut\":{\"title\":\"execOut\",\"dataType\":\"exec\"},\"in_physical_unit\":{\"title\":\"in_physical_unit\",\"dataType\":\"float\"}},\"title\":\"pixel to physical unit\"},{\"id\":\"8\",\"type\":\"reroute\",\"position\":{\"x\":538.3909325277284,\"y\":297.4352874608978},\"inputs\":{\"input\":{\"title\":\"input\",\"dataType\":\"float\"}},\"outputs\":{\"output\":{\"title\":\"output\",\"dataType\":\"float\"}},\"dataType\":\"float\",\"title\":\"reroute\"},{\"id\":\"9\",\"type\":\"reroute\",\"position\":{\"x\":1270.534621747547,\"y\":297.7918917883455},\"inputs\":{\"input\":{\"title\":\"input\",\"dataType\":\"float\"}},\"outputs\":{\"output\":{\"title\":\"output\",\"dataType\":\"float\"}},\"dataType\":\"float\",\"title\":\"reroute\"},{\"id\":\"10\",\"type\":\"Log.print\",\"position\":{\"x\":1679.2043799824175,\"y\":127.74802751897977},\"inputs\":{\"execIn\":{\"title\":\"execIn\",\"dataType\":\"exec\"},\"input\":{\"title\":\"objects\",\"value\":\"\",\"dataType\":\"anyDataType\"}},\"outputs\":{\"execOut\":{\"dataType\":\"exec\"}},\"title\":\"Print\"}],\"edges\":[{\"id\":\"reactflow__edge-1execOut-0execIn\",\"output\":\"1\",\"input\":\"0\",\"outputHandle\":\"execOut\",\"inputHandle\":\"execIn\",\"dataType\":\"exec\",\"style\":{\"strokeWidth\":2,\"stroke\":\"hsl(0, 0%, 0%)\"}},{\"id\":\"reactflow__edge-0execOut-2execIn\",\"output\":\"0\",\"input\":\"2\",\"outputHandle\":\"execOut\",\"inputHandle\":\"execIn\",\"dataType\":\"exec\",\"style\":{\"strokeWidth\":2,\"stroke\":\"hsl(0, 0%, 0%)\"}},{\"id\":\"reactflow__edge-0height-2image\",\"output\":\"0\",\"input\":\"2\",\"outputHandle\":\"height\",\"inputHandle\":\"image\",\"dataType\":\"anyDataType\",\"style\":{\"strokeWidth\":2,\"stroke\":\"hsl(0, 0%, 50%)\"}},{\"id\":\"reactflow__edge-2execOut-3execIn\",\"output\":\"2\",\"input\":\"3\",\"outputHandle\":\"execOut\",\"inputHandle\":\"execIn\",\"dataType\":\"exec\",\"style\":{\"strokeWidth\":2,\"stroke\":\"hsl(0, 0%, 0%)\"}},{\"id\":\"reactflow__edge-2outputImage-3image\",\"output\":\"2\",\"input\":\"3\",\"outputHandle\":\"outputImage\",\"inputHandle\":\"image\",\"dataType\":\"anyDataType\",\"style\":{\"strokeWidth\":2,\"stroke\":\"hsl(0, 0%, 50%)\"}},{\"id\":\"reactflow__edge-3execOut-4execIn\",\"output\":\"3\",\"input\":\"4\",\"outputHandle\":\"execOut\",\"inputHandle\":\"execIn\",\"dataType\":\"exec\",\"style\":{\"strokeWidth\":2,\"stroke\":\"hsl(0, 0%, 0%)\"}},{\"id\":\"reactflow__edge-3outputImage-4image\",\"output\":\"3\",\"input\":\"4\",\"outputHandle\":\"outputImage\",\"inputHandle\":\"image\",\"dataType\":\"anyDataType\",\"style\":{\"strokeWidth\":2,\"stroke\":\"hsl(0, 0%, 50%)\"}},{\"id\":\"reactflow__edge-4execOut-5execIn\",\"output\":\"4\",\"input\":\"5\",\"outputHandle\":\"execOut\",\"inputHandle\":\"execIn\",\"dataType\":\"exec\",\"style\":{\"strokeWidth\":2,\"stroke\":\"hsl(0, 0%, 0%)\"}},{\"id\":\"reactflow__edge-4outputImage-5image\",\"output\":\"4\",\"input\":\"5\",\"outputHandle\":\"outputImage\",\"inputHandle\":\"image\",\"dataType\":\"anyDataType\",\"style\":{\"strokeWidth\":2,\"stroke\":\"hsl(0, 0%, 50%)\"}},{\"id\":\"reactflow__edge-5contours-6contour\",\"output\":\"5\",\"input\":\"6\",\"outputHandle\":\"contours\",\"inputHandle\":\"contour\",\"dataType\":\"anyDataType\",\"style\":{\"strokeWidth\":2,\"stroke\":\"hsl(0, 0%, 50%)\"}},{\"id\":\"reactflow__edge-5execOut-7execIn\",\"output\":\"5\",\"input\":\"7\",\"outputHandle\":\"execOut\",\"inputHandle\":\"execIn\",\"dataType\":\"exec\",\"style\":{\"strokeWidth\":2,\"stroke\":\"hsl(0, 0%, 0%)\"}},{\"id\":\"reactflow__edge-6sizes-7data in pixel\",\"output\":\"6\",\"input\":\"7\",\"outputHandle\":\"sizes\",\"inputHandle\":\"data in pixel\",\"dataType\":\"float\",\"style\":{\"strokeWidth\":2,\"stroke\":\"hsl(240, 80%, 40%)\"}},{\"id\":\"reactflow__edge-0micrometer_per_pixel-8input\",\"output\":\"0\",\"input\":\"8\",\"outputHandle\":\"micrometer_per_pixel\",\"inputHandle\":\"input\",\"dataType\":\"float\",\"style\":{\"strokeWidth\":2,\"stroke\":\"hsl(240, 80%, 40%)\"}},{\"id\":\"reactflow__edge-8output-9input\",\"output\":\"8\",\"input\":\"9\",\"outputHandle\":\"output\",\"inputHandle\":\"input\",\"dataType\":\"float\",\"style\":{\"strokeWidth\":2,\"stroke\":\"hsl(240, 80%, 40%)\"}},{\"id\":\"reactflow__edge-9output-7micrometer per pixel\",\"output\":\"9\",\"input\":\"7\",\"outputHandle\":\"output\",\"inputHandle\":\"micrometer per pixel\",\"dataType\":\"float\",\"style\":{\"strokeWidth\":2,\"stroke\":\"hsl(240, 80%, 40%)\"}},{\"id\":\"reactflow__edge-7execOut-10execIn\",\"output\":\"7\",\"input\":\"10\",\"outputHandle\":\"execOut\",\"inputHandle\":\"execIn\",\"dataType\":\"exec\",\"style\":{\"strokeWidth\":2,\"stroke\":\"hsl(0, 0%, 0%)\"}},{\"id\":\"reactflow__edge-7in_physical_unit-10input\",\"output\":\"7\",\"input\":\"10\",\"outputHandle\":\"in_physical_unit\",\"inputHandle\":\"input\",\"dataType\":\"anyDataType\",\"style\":{\"strokeWidth\":2,\"stroke\":\"hsl(0, 0%, 50%)\"}}]}"
   ]
  }
 ],
 "metadata": {
  "kernelspec": {
   "display_name": "Python 3 (ipykernel)",
   "language": "python",
   "name": "python3"
  },
  "language_info": {
   "codemirror_mode": {
    "name": "ipython",
    "version": 3
   },
   "file_extension": ".py",
   "mimetype": "text/x-python",
   "name": "python",
   "nbconvert_exporter": "python",
   "pygments_lexer": "ipython3",
   "version": "3.11.9"
  }
 },
 "nbformat": 4,
 "nbformat_minor": 5
}
